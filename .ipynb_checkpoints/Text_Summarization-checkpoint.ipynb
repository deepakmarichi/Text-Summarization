{
 "cells": [
  {
   "cell_type": "markdown",
   "metadata": {},
   "source": [
    "# Text Summarization"
   ]
  },
  {
   "cell_type": "markdown",
   "metadata": {},
   "source": [
    "**Summarization** can be defined as a task of producing a concise and fluent summary while preserving key information and overall meaning.\n",
    "\n",
    "**Below is the code flow to generate summarize text:-**\n",
    "\n",
    "Input article → split into sentences → remove stop words → build a similarity matrix → generate rank based on matrix → pick top N sentences for summary."
   ]
  },
  {
   "cell_type": "markdown",
   "metadata": {},
   "source": [
    "# 1. Import all necessary libraries"
   ]
  },
  {
   "cell_type": "code",
   "execution_count": 1,
   "metadata": {
    "scrolled": true
   },
   "outputs": [],
   "source": [
    "import pandas as pd\n",
    "import numpy as np\n",
    "from nltk.corpus import stopwords\n",
    "from nltk.cluster.util import cosine_distance\n",
    "import numpy as np\n",
    "import networkx as nx"
   ]
  },
  {
   "cell_type": "markdown",
   "metadata": {},
   "source": [
    "# 2. Collecting reviews of a particular topic"
   ]
  },
  {
   "cell_type": "code",
   "execution_count": 2,
   "metadata": {
    "scrolled": true
   },
   "outputs": [],
   "source": [
    "df = pd.read_excel('neg_reviews.xlsx')"
   ]
  },
  {
   "cell_type": "code",
   "execution_count": 3,
   "metadata": {},
   "outputs": [
    {
     "data": {
      "text/plain": [
       "'Does the Delta Reserve cover lost items?\\nIt looks like the higher end cards all use the same terms: https://www.americanexpress.com/content/dam/amex/us/credit-cards/features-benefits/policies/pdf/NAC_PLS_and_30_Updates/PP_Benefit-Guide_Tier-3-Rev-03-18.pdf\\nAnd inside it says:\\nEXCLUSIONS\\nBenefits are not payable if the loss for which coverageissoughtwasdirectlyorindirectly,whollyor partially, contributed to or caused by:\\n17. purchases lost or misplaced (lost is only coverable for Platinum and Centurion Cardmembers, this exclusion is removed for Platinum and Centurion\\nCardmembers).'"
      ]
     },
     "execution_count": 3,
     "metadata": {},
     "output_type": "execute_result"
    }
   ],
   "source": [
    "df['review'][34]"
   ]
  },
  {
   "cell_type": "code",
   "execution_count": 4,
   "metadata": {
    "scrolled": false
   },
   "outputs": [
    {
     "name": "stdout",
     "output_type": "stream",
     "text": [
      "298\n"
     ]
    }
   ],
   "source": [
    "sentences = []\n",
    "for sent in df['review']:\n",
    "    sentences.append(sent.replace('\\n', ''))\n",
    "print(len(sentences))"
   ]
  },
  {
   "cell_type": "code",
   "execution_count": 5,
   "metadata": {},
   "outputs": [],
   "source": [
    "df['review'] = sentences"
   ]
  },
  {
   "cell_type": "code",
   "execution_count": 6,
   "metadata": {},
   "outputs": [
    {
     "data": {
      "text/plain": [
       "'Does the Delta Reserve cover lost items?It looks like the higher end cards all use the same terms: https://www.americanexpress.com/content/dam/amex/us/credit-cards/features-benefits/policies/pdf/NAC_PLS_and_30_Updates/PP_Benefit-Guide_Tier-3-Rev-03-18.pdfAnd inside it says:EXCLUSIONSBenefits are not payable if the loss for which coverageissoughtwasdirectlyorindirectly,whollyor partially, contributed to or caused by:17. purchases lost or misplaced (lost is only coverable for Platinum and Centurion Cardmembers, this exclusion is removed for Platinum and CenturionCardmembers).'"
      ]
     },
     "execution_count": 6,
     "metadata": {},
     "output_type": "execute_result"
    }
   ],
   "source": [
    "df['review'][34]"
   ]
  },
  {
   "cell_type": "code",
   "execution_count": 7,
   "metadata": {
    "scrolled": true
   },
   "outputs": [],
   "source": [
    "word_review = df[df['review'].str.contains(\"refund\")]['review']"
   ]
  },
  {
   "cell_type": "code",
   "execution_count": 8,
   "metadata": {},
   "outputs": [],
   "source": [
    "word_review = ','.join(word_review)"
   ]
  },
  {
   "cell_type": "code",
   "execution_count": 9,
   "metadata": {
    "scrolled": false
   },
   "outputs": [
    {
     "data": {
      "text/plain": [
       "'Hello everyone.I wanted to share my first-time dispute experience that I found confusing. Today I disputed a $500 charge that I sent a few days ago to someone via Cashapp (I\\'ll spare the story) and upon realizing I\\'ve been duped. I opened a dispute via AmEx. and my case was subsequently opened and shut instantly in my favor: \"As a result of our investigation. we have credited your account. This adjustment can be found on an upcoming statement.\"I haven\\'t received any money or refund yet. which I presume will be on my next statement close. My question is. do I have anything to worry about? Usually. I hear that transactions via Cashapp are a lost cause. Will the merchant be on the hook for the $500?.I should be having a refund of about 1800 dollars back onto my blue cash preferred card. I get that the refund would also have the cash back clawed back. which is fine. But I redeemed the cashback a while ago and don\\'t have the reward balance to cover it. So will that just appear as a charge on my card? Or will I have a negative balance to build back on my rewards? I messaged them on the app and they weren\\'t very helpful.I\\'ve had my credit card information stolen a few times over the years and I\\'ve never had an issue with American Express refunding the charges.Today. I noticed there are two fraudulent charges on my account - one pending and one cleared. The lady at customer service said she would not forward me to the fraud department and I have to file a dispute through her.She said the reason is because the card was physically swiped. I guess I\\'m confused because it seemed as if she hasn\\'t ever heard of criminals making fake cards. So they want to do an investigation which will take 6-8 weeks. If they decide to refund me the money at that time. they will.Had anyone ever dealt with this situation before? Was the outcome positive?.Hey guys.I opened a dispute on my AmEx account because a merchant had taken a month to issue me a refund when they had informed me that the refund would be issued in 48 hours. Shortly after I opened the dispute. the merchant issued my refund but in the incorrect amount. AmEx today closed the dispute in my favor. so I essentially received a double refund.I guess what I\\'m wondering is. since they already closed the dispute in my favor. am I now obligated to inform them that their decision was incorrect?.I had a dispute opened with TravelUp.Whereas my hotel was closed and refunded TravelUp. and TravelUp cancelled the booking I discovered that TravelUp won the case.I asked Amex for more details. and they told me TravelUP provided their T&C. BUT they have UPDATED their T&C after I paid. And they provided the new one to Amex.It’s illegal. and Amex dispute service wasn’t even able to see it’s illegal ! Ask to escalate to section 75 and bring Amex to small claim court !.My recent experience with American Express was very upsetting. Before the COVID pandemic began my family and I used our American Express points to purchase our flight to Europe. My parents have been members for over 30 years and they have been saving their points for years in preparation for this trip. Now that it is no longer safe to travel. we had no choice to but cancel our trip. American Express is now refusing to refund any of our points back. despite the fact that we purchased the tickets on their website and using the points. They informed us that it was not their issue and we had to work with each individual airline to see what they would do for reimbursement. The lack of ownership and loyalty shown by American Express was shocking and upsetting. Part of the marketing American Express does is the perks of American Express points. I advise anyone looking for a credit card that uses points as an incentive to look elsewhere. My family lost over 600.000 points. To make matters worse. we initially had insurance on our tickets. American Express messed it up and only gave us  insurance on one day of our trip. instead of the full time we were traveling. Even with this incident too. they are still claiming no responsibility..Dear Mr. Squeri:I’ve been a loyal and satisfied customer for over 20 years and have always received excellent service. With that said. the occurrence on March 24. 2020. was neither favorable nor acceptable.On March 16. 2020. I reported two fraudulent purchases: 1) Initial charge of One Hundred and Fifty-two dollars and fifty-six cents ($152.56). and the other for 2) Thirty-nine dollars and ninety-two cents ($39.92) made to Amazon Market Place. using my American Express Reward Points. The Amex representative opened a fraudulent claim and stated the reward points would be restored and a new credit card would be sent to me through regular mail.On March 23. 2020. American Express responded via email that “my” request was being processed to use reward points to pay charges on my February 17. 2020. through March 18. 2020 statement. Alarmed. I contacted American Express on March 24. 2020. and informed a representative that the aforementioned method of payment was not authorized by me. While speaking to the representative. I was told that someone had compromised my account and activated the new card sent to me via regular mail WHICH I NEVER RECEIVED. Also. I verified with the representative the following account information which had been changed for the purloined card without my request. permission or authorization: 1)  Change of my billing payment method to rewards points; I have over 250.000 reward points jeopardized; 2)  Deleted my checking account; 3)  Established auto payment; and 4)   paid bill/invoice with an authorized checking account.In summary. I clarified to the Amex representative that I was responsible for other charges on the February 17. 2020 through March 18. 2020 statement and these charges were not fraudulent or reported as such; and that I never requested or authorized Amex to pay my bill with reward points. However. I did request that (1) my reward points fraudulently used be reinstated. (2) the cancelation of automatic pay. and (3) a refund of my money. The representative ensured that there was not a problem for Amex to handle the three requests and that another card would be mailed within 24 hours.Please be informed that. instead of handling the charges invoked in the fraud. Amex reported ALL charges on the Amex state as fraudulent which has created major problems with merchants. such as Verizon Wireless and Bill Matrix.  These two companies have blocked my payment of their bills. not just by Amex but by any of my credit cards.  American Express reversed February 2020 and March 2020 payments from Verizon. Scana Gas. ADT Alarm. and AT&T. I have incurred late charges; and as of now. can no longer use any of my credit cards to pay my bills. This inability to use a credit card to pay bills is an inconvenience amid CONVID-19. I typically use Amex to pay most of my bills and expenses.After talking with several American Express representatives. on April 12. 2020 I finally spoke with an agent who explained what happened. and assured me of the removal of the fraud case. He stated that he did not have the authority to reverse adverse actions against merchants who have blocked my accounts and charged late payments. Many issues were created as a result of the improper handling of this incident. For example. I paid three months of Verizon telephone invoices to keep my service from being disconnected.My twenty-plus year account was not properly monitored by American Express’s Fraud Department.  If it had been. monthly reoccurring charges (i.e.. the aforementioned bills) would not have been flagged/questioned as fraud. I’m asking for your help to help restore my good standing with these aforementioned merchants who have blocked my use of credit card payments and for extra payments created by the reversed payments. In addition. I am requesting American Express to reimburse late fees incurred as a result of its staff mishandling of this incidence..I have been a valid member of Amex for years. I have always found them to be amazing. However I have booked 2 hoildays with love hoildays and TUI. both dates have passed and we havent travelled due to the FCO ruling and airlines not flying. I have approached both companies without success of speaking to a human. 14 days have passed and no refunds. both hoildays are package hoildays. I rasied the dispute with AMEX. They suppressed the amount and made contact with the hoilday compaines. They recieved the terms and condtions from the hoilday companies. which is flouting all the regualtory rules of 2018. Amex have stated they are abiding by the T&C\\'s of the hoilday companies. I dont qualify for section 75 due to it being a charge card not a credit card(lesson learned).So. I have to pay Amex £7500 for 2 hoildays I haven\\'t had. They said they can\\'t get the money back. but in another breathe say they could. If I could proof they have breached the T%C\\'s (package travel regulations 2018). So much conflicting information depending on which operator you get. I will remember this experience. but unfortunately for all the wrong reasons Amex.This is a harsh way to learn a lesson with AMEX. IN MY OPINION they should have put more resistance up for the customer in the dispute. When I asked Amex to tell which part of the T&C\\'s overide the regaultory laws of 2018. So basically you buy something with Amex. You raise a dispute over the tranactions and amex recieve the T&C\\'s and say sorry we are not a legal body and can\\'t help you. absoluelty crazy. ludicrous !!!!!!!Amex know what is going on and that the rules are being flouted. They have made choice to support the travel companies rather than the card user. I have offered Amex a credit note instead of the money but they said thats not acceptable. Funny how we are expected to accept a credit note !!!!.Without my knowledge or reasonable clear communication American Express increased by interest rate from the the low twenties to 23.99% or 24.99% which they describe as a \"Penalty APR\" for not making the minimum payment of under $161.89 on October 11th 2019 when I made a total payment of $1687.05 during October 2019 paying $745.79 on October 15th and $941.26 on October 29th. So for almost 7 months I was not properly notified despite paying over 10 times the minimum balance during October 2019 that my interest rate was significantly increased to their \"Penalty APR\".I called AMEX today 4/27/20 again not aware that my interest has ballooned unethically despite paying over 10 times the minimum due inquiring about having my APR reduced because of my low balance of 29% usage and the customer service representative communicated this information to me so I of course asked for all of the past interest accrued to be refunded immediately she stated the system will not allow this and I asked to be connected to a supervisor which she said will call me. This is absurd. fraudulent. unethical. and horrific treatment of a long time customer and I implore the BBB to reach out to AMEX and investigate this and other abusive. misleading. and predatory and illegal lending practices..Poor customer service. got charged twice for the same purchase. they denied the refund of one of the purchases..Do not get this card or work with American Express - they put holds on refunds for up to 30 days and you will pay fees that can add up to as much as $30 a month. They currently are holding $230 from a car rental that was returned three weeks ago. Their customer service is horrible- on hold for 29 minutes only to try to speak to someone in India who has no interest in solving your problem..The worst card ever I have refund more than 15 days from British airways and they still keep the money they didn’t refund it yet I called them several times they said they refund me in few days and I’m still waiting in this hard time.DON\\'T EVER USE AMEX! I\\'VE BEEN A LOYAL PAYER FOR MORE THAN 3 YEARS. Then I noticed that a payment had been made to a doggy website every month. I contacted Amex. after a few calls with them they decided to refund me the amount because as a credit card company they should have this protection. They refunded me. A month later I DECIDED TO CLOSE MY ACCOUNT. A really rude lady from Amex support told me that they are taking the refund back. After closing my account. THEY CONTINUED CHARGING ME FEES EVEN AFTER I\\'VE PAID MY LAST AMOUNT. THEY KEEP CONTACTING ME ABOUT MY ACCOUNT WHICH I CLOSED MORE THAN 6 MONTHS AGO. HORRIBLE HORRIBLE EXPERIENCE WITH Them. No protection whatsoever. no use of any advantages of a credit card..Today I had the occassion to talk to a representative from the Executive Offices about my deceased father\\'s credit card account. I was told that they would not refund the yearly fee to his estate because it was beyond the 30 day policy period. Keep in mind that he died before the fee was charged. Then I was told that nothing could be done about it until I got a power of attorney to deal with his account. I\\'m the executor of his estate but apparently that is not good enough. I need to get a power of attorney. Keep in mind that he has died. and that\\'s not possible. So sorry. that\\'s what we need. This whole situation has shown me American Express in a whole new light. and it is not a positive one..Disputed a transaction with the airline who confirmed via email that I will get a refund. The refund wasn\\'t full. hence I submitted a dispute. Twice. Attached multiple emails and documents showing that the representative of the airline sent me a confirmation with the amount of refund. Despite this pretty obvious evidence. both times AMEX resolved the dispute in favour of the merchant. If you think you are protected by Section 75 with AMEX - you are wrong..Had a great experience with AMEX.I bought a Hydro Flask bottle online (hydroflasknederland.com) and it turned out to be a fake delivered to me from China. I paid for it through Paypal. but they didn\\'t accept any reponsability. Quite unfair as they allowed a scammer to use their services to sell fake products to customers. Even more unfair is the fact that they still allow the scammer to sell the fakes through Paypal after being warned. So out goes Paypal.Then I turned to AMEX is my Paypal account is credited with my AMEX-card. I bit to my surprise. AMEX refunded me.Thank you AMEX for going above and beyond!.Terrible service resolving an unreceived refund from February. Raised 4 disputes and a complaint. which have failed to issue the refund or communicate adequately. How many more incorrect transactions have occurred that I didn\\'t happen to check? Unacceptable service!I\\'ve never had to dispute a transaction before. however just happened to check I had received a refund in February. which I hadn\\'t. I raised it initially with the shop directly. which couldn\\'t resolve it in the branch. so I called Amex whilst at the branch. who tried to tell me I had already been refunded. then realised after 30 minutes that I hadn\\'t. I then submitted all evidence (receipt etc) to confirm failed refund to raise a dispute. I received a letter to report the dispute had been resolved... but no refund occurred. I called Amex back. spent another 30 minutes explaining the situation (do they not have records on the system for the background of the case?). the dispute was reopened... same thing happened with no refund. I have now reopened the dispute 4 times in total and also requested to open a formal complaint on the last call. Today I have again received a letter that it has been resolved (but no refund)..Used to put customer service at the heart of their business. now they are more like Ryan Air. Take your complaint yo the ombudsman and get it sorted there. Stupid short sighted company. they\\'ve lost a high spending customer and will shortly have to pay the case fee a the   ombudsman service. and then will have to refund me anyway. It will cost them about 5x more...@TravelocityHelp Look at the time on my call&still no refund! It’s electronic! Just transfer it-It’s my $. @British_Airways I’m just a small person. Can’t you  #CorporateGreed work it out? of you has my$ @AskAmex Y no help from you?Past disputes u credited my acct. Ynot this .@AskAmexUK @askamex what a disappointment. Money taken out of my account a months after refunded cancelled flight and told not much we can do. What a disgrace. Gold card but copper service. #amex #americanexpress #askamericanexpress.Shame on @AmexCanada for not honouring their cardholders\\' chargeback disputes against airlines who failed to provid service amid covid- and refuse to issue refunds! #RefundPassengers @AskAmex.@GrouponHelpUS @AskAmex each told me to talk to the other.   Facts: bought  concert tkts using Amex card on “G” Concert canceleled. I ask “G” for refund per their policy. x. Given Groupon Bucks instead. They deny me. I dispute with Amex.They deny me. I want my $ back. Thnx.@AskAmex I got denied my dispute for refund (not credit) of Groupon purchase for tickets to concert. Their published policy clearly state they will AUTOMATICALLY refund the tkts. They did not do so. I do not understand why you did not find for me.  wrongs don’t make a right..@AskAmex @SAS Hi. I had a flight cancelled by SAS on April rd with a refund due and I have still not heard back from anyone. This is troubling...terrible service and a blatant effort to hold off on refunding affected travellers. + days so far!!!!.@AskAmex my brother is reporting false chargeback to his card to get a refund after his purchase is complete. I need a email address so I can tell corporate before he get a refund on his newest scam.'"
      ]
     },
     "execution_count": 9,
     "metadata": {},
     "output_type": "execute_result"
    }
   ],
   "source": [
    "word_review.replace(',', '.')"
   ]
  },
  {
   "cell_type": "markdown",
   "metadata": {},
   "source": [
    "# 3. Saving all reviews as a text document"
   ]
  },
  {
   "cell_type": "code",
   "execution_count": 10,
   "metadata": {
    "scrolled": true
   },
   "outputs": [],
   "source": [
    "file = open(\"refund.txt\",\"a\", encoding=\"utf-8\" )\n",
    "file.write(word_review)\n",
    "file.close()"
   ]
  },
  {
   "cell_type": "markdown",
   "metadata": {},
   "source": [
    "# 4. Generate clean sentences"
   ]
  },
  {
   "cell_type": "code",
   "execution_count": 11,
   "metadata": {
    "scrolled": true
   },
   "outputs": [],
   "source": [
    "def read_article(file_name):\n",
    "    file = open(file_name, \"r\", encoding=\"utf-8\")\n",
    "    filedata = file.readlines()\n",
    "    #print(filedata[1])\n",
    "    article = filedata[0].split(\". \")\n",
    "    sentences = []\n",
    "    for sentence in article:\n",
    "        sentences.append(sentence.replace(\"[^a-zA-Z]\", \" \").split(\" \"))  \n",
    "    return sentences"
   ]
  },
  {
   "cell_type": "markdown",
   "metadata": {},
   "source": [
    "# 5. sentence similarity function"
   ]
  },
  {
   "cell_type": "code",
   "execution_count": 12,
   "metadata": {
    "scrolled": true
   },
   "outputs": [],
   "source": [
    "def sentence_similarity(sent1, sent2, stopwords=None):\n",
    "    if stopwords is None:\n",
    "        stopwords = []\n",
    " \n",
    "    sent1 = [w.lower() for w in sent1]\n",
    "    sent2 = [w.lower() for w in sent2]\n",
    " \n",
    "    all_words = list(set(sent1 + sent2))\n",
    " \n",
    "    vector1 = [0] * len(all_words)\n",
    "    vector2 = [0] * len(all_words)\n",
    " \n",
    "    # build the vector for the first sentence\n",
    "    for w in sent1:\n",
    "        if w in stopwords:\n",
    "            continue\n",
    "        vector1[all_words.index(w)] += 1\n",
    " \n",
    "    # build the vector for the second sentence\n",
    "    for w in sent2:\n",
    "        if w in stopwords:\n",
    "            continue\n",
    "        vector2[all_words.index(w)] += 1\n",
    " \n",
    "    return 1 - cosine_distance(vector1, vector2)"
   ]
  },
  {
   "cell_type": "markdown",
   "metadata": {},
   "source": [
    "# 6. Similarity matrix\n",
    "\n",
    "**This is where we will be using cosine similarity to find similarity between sentences.**"
   ]
  },
  {
   "cell_type": "code",
   "execution_count": 13,
   "metadata": {
    "scrolled": false
   },
   "outputs": [],
   "source": [
    "def build_similarity_matrix(sentences, stop_words):\n",
    "    # Create an empty similarity matrix\n",
    "    similarity_matrix = np.zeros((len(sentences), len(sentences)))\n",
    " \n",
    "    for idx1 in range(len(sentences)):\n",
    "        for idx2 in range(len(sentences)):\n",
    "            if idx1 == idx2: #ignore if both are same sentences\n",
    "                continue \n",
    "            similarity_matrix[idx1][idx2] = sentence_similarity(sentences[idx1], sentences[idx2], stop_words)\n",
    "    return similarity_matrix"
   ]
  },
  {
   "cell_type": "markdown",
   "metadata": {},
   "source": [
    "# 7. Generate Summary Method"
   ]
  },
  {
   "cell_type": "code",
   "execution_count": 14,
   "metadata": {
    "scrolled": false
   },
   "outputs": [],
   "source": [
    "def generate_summary(file_name, top_n=10):\n",
    "    \n",
    "    stop_words = stopwords.words('english')\n",
    "    \n",
    "    summarize_text = []\n",
    "    \n",
    "    # Step 1 - Read text and tokenize\n",
    "    sentences =  read_article(file_name)\n",
    "    #print(len(sentences))\n",
    "    \n",
    "    # Step 2 - Generate Similary Martix across sentences\n",
    "    sentence_similarity_martix = build_similarity_matrix(sentences, stop_words)\n",
    "    \n",
    "    # Step 3 - Rank sentences in similarity martix\n",
    "    sentence_similarity_graph = nx.from_numpy_array(sentence_similarity_martix)\n",
    "    scores = nx.pagerank(sentence_similarity_graph)\n",
    "    \n",
    "    # Step 4 - Sort the rank and pick top sentences\n",
    "    ranked_sentence = sorted(((scores[i],s) for i,s in enumerate(sentences)), reverse=True)    \n",
    "    #print(\"Indexes of top ranked_sentence order are \", ranked_sentence)\n",
    "    \n",
    "    for i in range(top_n):\n",
    "        summarize_text.append(\" \".join(ranked_sentence[i][1]))\n",
    "        \n",
    "    # Step 5 - Offcourse, output the summarize text\n",
    "    print(\"Summarize Text: \\n\", \". \".join(summarize_text))\n"
   ]
  },
  {
   "cell_type": "code",
   "execution_count": 15,
   "metadata": {
    "scrolled": false
   },
   "outputs": [
    {
     "name": "stderr",
     "output_type": "stream",
     "text": [
      "C:\\Users\\deepa\\Anaconda3\\lib\\site-packages\\nltk\\cluster\\util.py:131: RuntimeWarning: invalid value encountered in true_divide\n",
      "  return 1 - (numpy.dot(u, v) / (sqrt(numpy.dot(u, u)) * sqrt(numpy.dot(v, v))))\n"
     ]
    },
    {
     "ename": "PowerIterationFailedConvergence",
     "evalue": "(PowerIterationFailedConvergence(...), 'power iteration failed to converge within 100 iterations')",
     "output_type": "error",
     "traceback": [
      "\u001b[1;31m---------------------------------------------------------------------------\u001b[0m",
      "\u001b[1;31mPowerIterationFailedConvergence\u001b[0m           Traceback (most recent call last)",
      "\u001b[1;32m<ipython-input-15-c08b8a4135cd>\u001b[0m in \u001b[0;36m<module>\u001b[1;34m\u001b[0m\n\u001b[1;32m----> 1\u001b[1;33m \u001b[0mgenerate_summary\u001b[0m\u001b[1;33m(\u001b[0m \u001b[1;34m'refund.txt'\u001b[0m\u001b[1;33m,\u001b[0m \u001b[1;36m15\u001b[0m \u001b[1;33m)\u001b[0m\u001b[1;33m\u001b[0m\u001b[1;33m\u001b[0m\u001b[0m\n\u001b[0m",
      "\u001b[1;32m<ipython-input-14-8f3dd957053d>\u001b[0m in \u001b[0;36mgenerate_summary\u001b[1;34m(file_name, top_n)\u001b[0m\n\u001b[0;32m     14\u001b[0m     \u001b[1;31m# Step 3 - Rank sentences in similarity martix\u001b[0m\u001b[1;33m\u001b[0m\u001b[1;33m\u001b[0m\u001b[1;33m\u001b[0m\u001b[0m\n\u001b[0;32m     15\u001b[0m     \u001b[0msentence_similarity_graph\u001b[0m \u001b[1;33m=\u001b[0m \u001b[0mnx\u001b[0m\u001b[1;33m.\u001b[0m\u001b[0mfrom_numpy_array\u001b[0m\u001b[1;33m(\u001b[0m\u001b[0msentence_similarity_martix\u001b[0m\u001b[1;33m)\u001b[0m\u001b[1;33m\u001b[0m\u001b[1;33m\u001b[0m\u001b[0m\n\u001b[1;32m---> 16\u001b[1;33m     \u001b[0mscores\u001b[0m \u001b[1;33m=\u001b[0m \u001b[0mnx\u001b[0m\u001b[1;33m.\u001b[0m\u001b[0mpagerank\u001b[0m\u001b[1;33m(\u001b[0m\u001b[0msentence_similarity_graph\u001b[0m\u001b[1;33m)\u001b[0m\u001b[1;33m\u001b[0m\u001b[1;33m\u001b[0m\u001b[0m\n\u001b[0m\u001b[0;32m     17\u001b[0m \u001b[1;33m\u001b[0m\u001b[0m\n\u001b[0;32m     18\u001b[0m     \u001b[1;31m# Step 4 - Sort the rank and pick top sentences\u001b[0m\u001b[1;33m\u001b[0m\u001b[1;33m\u001b[0m\u001b[1;33m\u001b[0m\u001b[0m\n",
      "\u001b[1;32m<C:\\Users\\deepa\\Anaconda3\\lib\\site-packages\\decorator.py:decorator-gen-434>\u001b[0m in \u001b[0;36mpagerank\u001b[1;34m(G, alpha, personalization, max_iter, tol, nstart, weight, dangling)\u001b[0m\n",
      "\u001b[1;32m~\\Anaconda3\\lib\\site-packages\\networkx\\utils\\decorators.py\u001b[0m in \u001b[0;36m_not_implemented_for\u001b[1;34m(not_implement_for_func, *args, **kwargs)\u001b[0m\n\u001b[0;32m     80\u001b[0m             \u001b[1;32mraise\u001b[0m \u001b[0mnx\u001b[0m\u001b[1;33m.\u001b[0m\u001b[0mNetworkXNotImplemented\u001b[0m\u001b[1;33m(\u001b[0m\u001b[0mmsg\u001b[0m\u001b[1;33m)\u001b[0m\u001b[1;33m\u001b[0m\u001b[1;33m\u001b[0m\u001b[0m\n\u001b[0;32m     81\u001b[0m         \u001b[1;32melse\u001b[0m\u001b[1;33m:\u001b[0m\u001b[1;33m\u001b[0m\u001b[1;33m\u001b[0m\u001b[0m\n\u001b[1;32m---> 82\u001b[1;33m             \u001b[1;32mreturn\u001b[0m \u001b[0mnot_implement_for_func\u001b[0m\u001b[1;33m(\u001b[0m\u001b[1;33m*\u001b[0m\u001b[0margs\u001b[0m\u001b[1;33m,\u001b[0m \u001b[1;33m**\u001b[0m\u001b[0mkwargs\u001b[0m\u001b[1;33m)\u001b[0m\u001b[1;33m\u001b[0m\u001b[1;33m\u001b[0m\u001b[0m\n\u001b[0m\u001b[0;32m     83\u001b[0m     \u001b[1;32mreturn\u001b[0m \u001b[0m_not_implemented_for\u001b[0m\u001b[1;33m\u001b[0m\u001b[1;33m\u001b[0m\u001b[0m\n\u001b[0;32m     84\u001b[0m \u001b[1;33m\u001b[0m\u001b[0m\n",
      "\u001b[1;32m~\\Anaconda3\\lib\\site-packages\\networkx\\algorithms\\link_analysis\\pagerank_alg.py\u001b[0m in \u001b[0;36mpagerank\u001b[1;34m(G, alpha, personalization, max_iter, tol, nstart, weight, dangling)\u001b[0m\n\u001b[0;32m    156\u001b[0m         \u001b[1;32mif\u001b[0m \u001b[0merr\u001b[0m \u001b[1;33m<\u001b[0m \u001b[0mN\u001b[0m \u001b[1;33m*\u001b[0m \u001b[0mtol\u001b[0m\u001b[1;33m:\u001b[0m\u001b[1;33m\u001b[0m\u001b[1;33m\u001b[0m\u001b[0m\n\u001b[0;32m    157\u001b[0m             \u001b[1;32mreturn\u001b[0m \u001b[0mx\u001b[0m\u001b[1;33m\u001b[0m\u001b[1;33m\u001b[0m\u001b[0m\n\u001b[1;32m--> 158\u001b[1;33m     \u001b[1;32mraise\u001b[0m \u001b[0mnx\u001b[0m\u001b[1;33m.\u001b[0m\u001b[0mPowerIterationFailedConvergence\u001b[0m\u001b[1;33m(\u001b[0m\u001b[0mmax_iter\u001b[0m\u001b[1;33m)\u001b[0m\u001b[1;33m\u001b[0m\u001b[1;33m\u001b[0m\u001b[0m\n\u001b[0m\u001b[0;32m    159\u001b[0m \u001b[1;33m\u001b[0m\u001b[0m\n\u001b[0;32m    160\u001b[0m \u001b[1;33m\u001b[0m\u001b[0m\n",
      "\u001b[1;31mPowerIterationFailedConvergence\u001b[0m: (PowerIterationFailedConvergence(...), 'power iteration failed to converge within 100 iterations')"
     ]
    }
   ],
   "source": [
    "generate_summary( 'refund.txt', 15 )\n"
   ]
  },
  {
   "cell_type": "code",
   "execution_count": null,
   "metadata": {
    "scrolled": false
   },
   "outputs": [],
   "source": []
  },
  {
   "cell_type": "code",
   "execution_count": null,
   "metadata": {},
   "outputs": [],
   "source": []
  }
 ],
 "metadata": {
  "kernelspec": {
   "display_name": "Python 3",
   "language": "python",
   "name": "python3"
  },
  "language_info": {
   "codemirror_mode": {
    "name": "ipython",
    "version": 3
   },
   "file_extension": ".py",
   "mimetype": "text/x-python",
   "name": "python",
   "nbconvert_exporter": "python",
   "pygments_lexer": "ipython3",
   "version": "3.7.3"
  }
 },
 "nbformat": 4,
 "nbformat_minor": 2
}
